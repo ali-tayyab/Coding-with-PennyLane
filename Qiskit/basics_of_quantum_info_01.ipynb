{
 "cells": [
  {
   "cell_type": "markdown",
   "id": "08a70d9a",
   "metadata": {},
   "source": [
    "### **Basics of Quantum Information - 01**"
   ]
  },
  {
   "cell_type": "code",
   "execution_count": 1,
   "id": "f1b3461a",
   "metadata": {},
   "outputs": [
    {
     "name": "stdout",
     "output_type": "stream",
     "text": [
      "2.2.1\n"
     ]
    }
   ],
   "source": [
    "import qiskit\n",
    "import numpy as np\n",
    "import sympy as sp\n",
    "import pylatexenc\n",
    "from qiskit import __version__\n",
    "print(__version__)"
   ]
  },
  {
   "cell_type": "markdown",
   "id": "a19bc3c8",
   "metadata": {},
   "source": [
    "#### **Vectors and Matrices in Pyhton**"
   ]
  },
  {
   "cell_type": "code",
   "execution_count": 2,
   "id": "078cd6fe",
   "metadata": {},
   "outputs": [
    {
     "name": "stdout",
     "output_type": "stream",
     "text": [
      "[[0.5]\n",
      " [0.5]]\n"
     ]
    }
   ],
   "source": [
    "ket0 = np.array([\n",
    "    [1],\n",
    "    [0]\n",
    "])\n",
    "ket1 = np.array([\n",
    "    [0],\n",
    "    [1]\n",
    "])\n",
    "print((ket0 + ket1)/2)"
   ]
  },
  {
   "cell_type": "code",
   "execution_count": 3,
   "id": "0afbe0c4",
   "metadata": {},
   "outputs": [
    {
     "name": "stdout",
     "output_type": "stream",
     "text": [
      "[[3.  5.5]\n",
      " [5.  1.5]]\n"
     ]
    }
   ],
   "source": [
    "# we can also built matrices using array\n",
    "M1 = np.array([\n",
    "    [2,4],\n",
    "    [1,2]\n",
    "])\n",
    "M2 = np.array([\n",
    "    [4,7],\n",
    "    [9,1]\n",
    "])\n",
    "M = (M1 + M2) / 2\n",
    "print(M)"
   ]
  },
  {
   "cell_type": "code",
   "execution_count": 4,
   "id": "1f1786f4",
   "metadata": {},
   "outputs": [
    {
     "name": "stdout",
     "output_type": "stream",
     "text": [
      "[[44 18]\n",
      " [22  9]]\n",
      "[[61.5 26.5]\n",
      " [33.5 36.5]]\n",
      "[[2]\n",
      " [1]]\n"
     ]
    }
   ],
   "source": [
    "# matrix multiplication\n",
    "print(np.matmul(M1,M2))\n",
    "print(np.matmul(M,M2))\n",
    "print(np.matmul(M1,ket0))"
   ]
  },
  {
   "cell_type": "code",
   "execution_count": 5,
   "id": "8bcd7193",
   "metadata": {},
   "outputs": [
    {
     "data": {
      "text/latex": [
       "$$\n",
       "\n",
       "\\begin{bmatrix}\n",
       "\\frac{123}{2} & \\frac{53}{2}  \\\\\n",
       " \\frac{67}{2} & \\frac{73}{2}  \\\\\n",
       " \\end{bmatrix}\n",
       "$$"
      ],
      "text/plain": [
       "<IPython.core.display.Latex object>"
      ]
     },
     "metadata": {},
     "output_type": "display_data"
    }
   ],
   "source": [
    "# How we can dislay matrices in a nicer way\n",
    "from qiskit.visualization import array_to_latex \n",
    "display(array_to_latex(np.matmul(M,M2)))"
   ]
  },
  {
   "cell_type": "markdown",
   "id": "3059200e",
   "metadata": {},
   "source": [
    "#### **States, Measurements, and operations**"
   ]
  },
  {
   "cell_type": "code",
   "execution_count": 16,
   "id": "5dc14d21",
   "metadata": {},
   "outputs": [
    {
     "data": {
      "text/latex": [
       "$$\\frac{1}{2} |00\\rangle+\\frac{1}{2} |01\\rangle+\\frac{1}{2} |10\\rangle+\\frac{1}{2} |11\\rangle$$"
      ],
      "text/plain": [
       "<IPython.core.display.Latex object>"
      ]
     },
     "metadata": {},
     "output_type": "display_data"
    },
    {
     "data": {
      "text/plain": [
       "[0.5+0.j,0.5+0.j,0.5+0.j,0.5+0.j]"
      ]
     },
     "metadata": {},
     "output_type": "display_data"
    },
    {
     "data": {
      "text/plain": [
       "'\\\\frac{1}{2} |00\\\\rangle+\\\\frac{1}{2} |01\\\\rangle+\\\\frac{1}{2} |10\\\\rangle+\\\\frac{1}{2} |11\\\\rangle'"
      ]
     },
     "metadata": {},
     "output_type": "display_data"
    },
    {
     "data": {
      "text/plain": [
       "True"
      ]
     },
     "metadata": {},
     "output_type": "display_data"
    }
   ],
   "source": [
    "# Define and display state vectors\n",
    "from qiskit.quantum_info import Statevector\n",
    "psi = Statevector([1/2, 1/2, 1/2,1/2])\n",
    "chi = Statevector([(1+3j)/2 , -2/3])\n",
    "display(psi.draw('latex'))\n",
    "display(psi.draw('text'))\n",
    "display(psi.draw('latex_source'))\n",
    "# The Statevector class also have an option `is_valid` which cheks that whether the given state is valid quantum state or not!\n",
    "\n",
    "display(psi.is_valid())"
   ]
  },
  {
   "cell_type": "markdown",
   "id": "3fca9620",
   "metadata": {},
   "source": [
    "#### **Simulating measurements using Statevector**"
   ]
  },
  {
   "cell_type": "code",
   "execution_count": 17,
   "id": "78621c26",
   "metadata": {},
   "outputs": [
    {
     "data": {
      "text/latex": [
       "$$(\\frac{1}{2} + \\frac{3 i}{2}) |0\\rangle- \\frac{2}{3} |1\\rangle$$"
      ],
      "text/plain": [
       "<IPython.core.display.Latex object>"
      ]
     },
     "metadata": {},
     "output_type": "display_data"
    }
   ],
   "source": [
    "display(chi.draw('latex'))"
   ]
  },
  {
   "cell_type": "code",
   "execution_count": 29,
   "id": "91f13d95",
   "metadata": {},
   "outputs": [
    {
     "name": "stdout",
     "output_type": "stream",
     "text": [
      "00 Statevector([1.+0.j, 0.+0.j, 0.+0.j, 0.+0.j],\n",
      "            dims=(2, 2))\n"
     ]
    }
   ],
   "source": [
    "outcome, state = psi.measure()\n",
    "print(outcome, state)"
   ]
  },
  {
   "cell_type": "code",
   "execution_count": null,
   "id": "835b5c56",
   "metadata": {},
   "outputs": [],
   "source": []
  },
  {
   "cell_type": "code",
   "execution_count": null,
   "id": "fa1c0162",
   "metadata": {},
   "outputs": [],
   "source": []
  }
 ],
 "metadata": {
  "kernelspec": {
   "display_name": "cwq",
   "language": "python",
   "name": "python3"
  },
  "language_info": {
   "codemirror_mode": {
    "name": "ipython",
    "version": 3
   },
   "file_extension": ".py",
   "mimetype": "text/x-python",
   "name": "python",
   "nbconvert_exporter": "python",
   "pygments_lexer": "ipython3",
   "version": "3.13.5"
  }
 },
 "nbformat": 4,
 "nbformat_minor": 5
}
