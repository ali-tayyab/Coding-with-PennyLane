{
 "cells": [
  {
   "cell_type": "markdown",
   "id": "89c513eb",
   "metadata": {},
   "source": [
    "#### **Learning Objectives**\n",
    "- Identify Different type of devices in pennylane\n",
    "- Create a simple quantum function in PEnnylane usign elementary gates\n",
    "- Turn a quantum function into QNode and return the quantum state\n",
    "- Draw a circuit to verify that it has been constructed properly \n"
   ]
  },
  {
   "cell_type": "markdown",
   "metadata": {},
   "source": [
    "#### **Prerequisites**\n",
    "- Linear algebra, complex numbers, multoivariable calculus\n",
    "- Elementary python programming language\n",
    "    - variables, lists, conditional statements, loops, fucntions, numpy\n",
    "- Unitary Operations\n",
    "    - Hadamard, Pauli operators, Rotations, CNOT, concept of controlled-gates\n",
    "- Qauntum Measurements\n",
    "    - Observables, Born Rule, expectation values\n",
    "\n",
    "\n"
   ]
  },
  {
   "cell_type": "code",
   "execution_count": 1,
   "id": "2954aff0",
   "metadata": {},
   "outputs": [],
   "source": [
    "# Importing\n",
    "import pennylane as qml\n",
    "from pennylane import numpy as np"
   ]
  },
  {
   "cell_type": "code",
   "execution_count": 2,
   "id": "2960c70c",
   "metadata": {},
   "outputs": [],
   "source": [
    "# Quantum Functions\n",
    "# A Quantum function includes a list of gates that may depend on some `parameters` and act on some wires = qubits\n",
    "# Example Useage\n",
    "\"\"\"\n",
    "def quantum_circuit(parameters):\n",
    "    qml.gate1(parameters,wires)\n",
    "    qml.gate2(parameters,wires)\n",
    "\"\"\"\n",
    "# Lets see how the above code works, \n",
    "def my_first_circuit(theta):\n",
    "    qml.RX(theta, wires = 0)\n",
    "    qml.PauliY(wires = 1)\n",
    "    qml.Hadamard(wires = 0)\n",
    "    qml.Hadamard(wires = 1)\n",
    "    return qml.state()       # To run this function, we need to return something, \n",
    "                             # One of the return types that pennylane supports is `qml.state()` \n",
    "                             # which returns a complex `np.array` that represents a quantum state \n",
    "                             # after all the gates have been applied\n"
   ]
  },
  {
   "cell_type": "markdown",
   "id": "aed46ab0",
   "metadata": {},
   "source": [
    "#### **Device**\n",
    "If we try to run the above quantum function, nothing will happen. The reason is that, in PennyLane, we need to specify a device on which the quantum circuit will run. There are quite a few devices we can use, but we will focus on the following three.\n",
    "- **default.qubit** : Vanilla qubit quantum device, for circuits without noise. It is not optimized for performance, but it's the first one to be upgraded and will have the most advanced features at any point in time.\n",
    "- **lightening.qubit** : A fast noiseless qubit device. It is optimized for performance via a C++ backend, but its development will often lag a bit behind **default.qubit**.\n",
    "- **default.mixed** :  A qubit device that allows noisy gates. It works with the density operator representation of quantum states.\n",
    "We will work with **default.qubit** unless we say otherwise. For larger circuits with many qubits, working with **lightning.qubit** is highly recommended. Let's define the device using `qml.device()`."
   ]
  },
  {
   "cell_type": "code",
   "execution_count": 3,
   "id": "0cf25b70",
   "metadata": {},
   "outputs": [],
   "source": [
    "device = qml.device(\"default.qubit\", wires = 2)\n",
    "# In `default.qubit`, the wires argument is optional as the backend can read our circuit and figure out the number fo wires"
   ]
  },
  {
   "cell_type": "markdown",
   "id": "31f95615",
   "metadata": {},
   "source": [
    "#### **QNode**\n",
    "The pairing of quantum circuit/function with a device is called QNode. There are two ways to pair.\n",
    "1. We need to define the decorater at top of the function definition.\n",
    "*see below*"
   ]
  },
  {
   "cell_type": "code",
   "execution_count": 4,
   "id": "bc1408d0",
   "metadata": {},
   "outputs": [
    {
     "name": "stdout",
     "output_type": "stream",
     "text": [
      "[ 0.19134172+0.46193977j -0.19134172-0.46193977j -0.19134172+0.46193977j\n",
      "  0.19134172-0.46193977j]\n"
     ]
    }
   ],
   "source": [
    "# QNode : \n",
    "# A Complete Quantum Circuit is below\n",
    "device = qml.device(\"default.qubit\", wires = 2) # optional argument wires\n",
    "@qml.qnode(device)\n",
    "def my_first_circuit(theta):\n",
    "    qml.RX(theta, wires = 0)\n",
    "    qml.PauliY(wires = 1)\n",
    "    qml.Hadamard(wires = 0)\n",
    "    qml.Hadamard(wires = 1)\n",
    "    return qml.state()\n",
    "print(my_first_circuit(np.pi/4))"
   ]
  },
  {
   "cell_type": "markdown",
   "id": "9d1acb59",
   "metadata": {},
   "source": [
    "Another way is the following...."
   ]
  },
  {
   "cell_type": "code",
   "execution_count": 5,
   "id": "e0ef8bda",
   "metadata": {},
   "outputs": [
    {
     "name": "stdout",
     "output_type": "stream",
     "text": [
      "[ 0.19134172+0.46193977j -0.19134172-0.46193977j -0.19134172+0.46193977j\n",
      "  0.19134172-0.46193977j]\n"
     ]
    }
   ],
   "source": [
    "device = qml.device(\"default.qubit\", wires = 2)\n",
    "def my_first_circuit(theta):\n",
    "    qml.RX(theta, wires = 0)\n",
    "    qml.PauliY(wires = 1)\n",
    "    qml.Hadamard(wires = 0)\n",
    "    qml.Hadamard(wires = 1)\n",
    "    return qml.state()\n",
    "my_first_qnode = qml.QNode(my_first_circuit,device)\n",
    "print(my_first_qnode(np.pi/4)) # REMEMBER, in this case, we have to call our my_first_qnode(not my_first_cicuit) and pass the parameter to it"
   ]
  },
  {
   "cell_type": "markdown",
   "id": "a6a6ba0f",
   "metadata": {},
   "source": [
    "#### What the above results are representing?\n",
    "The list above represents the amplitudes of the state in the computational basis $\\ket{00}, \\ket{01}, \\ket{10}, \\ket{11}$. It means, the final result is \n",
    "$$\n",
    "\\ket{\\psi} = (0.19134172+0.46193977j) \\ket{00} + (-0.19134172-0.46193977j) \\ket{01} + (-0.19134172+0.46193977j) \\ket{10} + (0.19134172-0.46193977j) \\ket{11}\n",
    "$$"
   ]
  },
  {
   "cell_type": "markdown",
   "id": "6af1f084",
   "metadata": {},
   "source": [
    "#### **Subcircuits**\n",
    "Quantum functions that do not return anything can be used as subcircuits—smaller pieces that build up to a larger circuit. Lets define two subcircuits and merge them.\n"
   ]
  },
  {
   "cell_type": "code",
   "execution_count": 6,
   "id": "5dbd2b68",
   "metadata": {},
   "outputs": [],
   "source": [
    "def sub_circuit1(theta):\n",
    "    qml.RX(theta,wires = 0)\n",
    "    qml.PauliY(wires = 1)\n",
    "def sub_circuit2():\n",
    "    qml.Hadamard(wires = 0)\n",
    "    qml.CNOT(wires = [0,1])\n",
    "# Now lets define a full circuit\n",
    "def full_circuit(theta,phi):\n",
    "    sub_circuit1(theta)\n",
    "    sub_circuit2()\n",
    "    sub_circuit1(phi)\n",
    "    return qml.state()"
   ]
  },
  {
   "cell_type": "markdown",
   "id": "ba609ddd",
   "metadata": {},
   "source": [
    "To show that this is indeed the circuit we want to build, we can plot it using `qml.draw()`. Note that qml.draw acts as a wrapper, so the arguments of full_circuit become arguments of `qml.draw(full_circuit)`. We also fix some values of theta and phi to generate the circuit diagram."
   ]
  },
  {
   "cell_type": "code",
   "execution_count": 7,
   "id": "e5820e59",
   "metadata": {},
   "outputs": [
    {
     "data": {
      "text/plain": [
       "(<Figure size 700x300 with 1 Axes>, <Axes: >)"
      ]
     },
     "execution_count": 7,
     "metadata": {},
     "output_type": "execute_result"
    },
    {
     "data": {
      "image/png": "[encoded data removed]",
      "text/plain": [
       "<Figure size 700x300 with 1 Axes>"
      ]
     },
     "metadata": {},
     "output_type": "display_data"
    }
   ],
   "source": [
    "theta = 0.3\n",
    "phi = 0.2\n",
    "qml.draw_mpl(full_circuit)(theta,phi)"
   ]
  },
  {
   "cell_type": "code",
   "execution_count": 8,
   "id": "59c9426e",
   "metadata": {},
   "outputs": [
    {
     "name": "stdout",
     "output_type": "stream",
     "text": [
      "[ 0.69567381-0.10514081j -0.01054927+0.0698002j  -0.01054927-0.0698002j\n",
      " -0.69567381-0.10514081j]\n"
     ]
    }
   ],
   "source": [
    "device1 = qml.device(\"default.qubit\")\n",
    "my_second_qnode = qml.QNode(full_circuit,device1)\n",
    "print(my_second_qnode(theta,phi))"
   ]
  },
  {
   "cell_type": "markdown",
   "id": "f3c719e1",
   "metadata": {},
   "source": [
    "#### **Examples**\n",
    "It is not that easy as it is looking, Lets do some example exercises."
   ]
  },
  {
   "cell_type": "markdown",
   "id": "379a14e4",
   "metadata": {},
   "source": [
    "##### Create a Bell state using a subcircuit"
   ]
  },
  {
   "cell_type": "code",
   "execution_count": 9,
   "id": "c21cffde",
   "metadata": {},
   "outputs": [
    {
     "data": {
      "text/plain": [
       "(<Figure size 500x300 with 1 Axes>, <Axes: >)"
      ]
     },
     "execution_count": 9,
     "metadata": {},
     "output_type": "execute_result"
    },
    {
     "data": {
      "image/png": "[encoded data removed]",
      "text/plain": [
       "<Figure size 500x300 with 1 Axes>"
      ]
     },
     "metadata": {},
     "output_type": "display_data"
    }
   ],
   "source": [
    "def entangle(wire_list):\n",
    "    qml.Hadamard(wire_list[0])\n",
    "    qml.CNOT(wires = wire_list)\n",
    "@qml.qnode(device1)\n",
    "def circuit():\n",
    "    entangle([0,1])\n",
    "    return qml.state()\n",
    "qml.draw_mpl(circuit)()"
   ]
  },
  {
   "cell_type": "code",
   "execution_count": 10,
   "id": "89735004",
   "metadata": {},
   "outputs": [
    {
     "name": "stdout",
     "output_type": "stream",
     "text": [
      "[0.70710678+0.j 0.        +0.j 0.        +0.j 0.70710678+0.j]\n"
     ]
    }
   ],
   "source": [
    "print(circuit())"
   ]
  },
  {
   "cell_type": "markdown",
   "id": "311826df",
   "metadata": {},
   "source": [
    "#### 🧩 Problem 1: Reusable Bell Pair Block\n",
    "\n",
    "**Task:**\n",
    "\n",
    "1. Create a subcircuit function `bell_pair(wire1, wire2)` that generates a Bell state:\n",
    "   - Apply a Hadamard gate to `wire1`.\n",
    "   - Then apply a CNOT from `wire1` to `wire2`.\n",
    "\n",
    "2. In the main quantum circuit:\n",
    "   - Use `bell_pair` on wires 0 and 1.\n",
    "   - Use it again on wires 2 and 3.\n",
    "   - Apply a CSWAP gate with control qubit 0, and target qubits 1 and 2.\n",
    "\n",
    "**Instructions:**\n",
    "\n",
    "- Return either the statevector (`qml.state()`) or the probabilities (`qml.probs(wires=[0, 1, 2, 3])`).\n",
    "- Visualize the output to observe entanglement and interference between Bell pairs.\n",
    "\n",
    "**Bonus:** Try printing the statevector and see which amplitudes are non-zero."
   ]
  },
  {
   "cell_type": "code",
   "execution_count": 11,
   "id": "d3229e28",
   "metadata": {},
   "outputs": [
    {
     "name": "stdout",
     "output_type": "stream",
     "text": [
      "[0.5+0.j 0. +0.j 0. +0.j 0.5+0.j 0. +0.j 0. +0.j 0. +0.j 0. +0.j 0. +0.j\n",
      " 0. +0.j 0.5+0.j 0. +0.j 0. +0.j 0. +0.j 0. +0.j 0.5+0.j]\n"
     ]
    }
   ],
   "source": [
    "def sub(wire1,wire2):\n",
    "    qml.Hadamard(wires = wire1)\n",
    "    qml.CNOT(wires =[wire1,wire2])\n",
    "d = qml.device(\"lightning.qubit\", wires = 4)\n",
    "@qml.qnode(d)\n",
    "def main():\n",
    "    sub(0,1)\n",
    "    sub(2,3)\n",
    "    qml.CSWAP(wires = [0,1,2])\n",
    "    return qml.state()\n",
    "print(main())"
   ]
  },
  {
   "cell_type": "code",
   "execution_count": 12,
   "id": "f9528de4",
   "metadata": {},
   "outputs": [
    {
     "data": {
      "text/plain": [
       "(<Figure size 600x500 with 1 Axes>, <Axes: >)"
      ]
     },
     "execution_count": 12,
     "metadata": {},
     "output_type": "execute_result"
    },
    {
     "data": {
      "image/png": "[encoded data removed]",
      "text/plain": [
       "<Figure size 600x500 with 1 Axes>"
      ]
     },
     "metadata": {},
     "output_type": "display_data"
    }
   ],
   "source": [
    "qml.draw_mpl(main)()"
   ]
  },
  {
   "cell_type": "markdown",
   "id": "73677d81",
   "metadata": {},
   "source": [
    "#### 🧩 Problem 2: Phase Kicker Block\n",
    "\n",
    "**Task:**\n",
    "\n",
    "1. Create a subcircuit `phase_kick(wire, theta)` that applies the following sequence:\n",
    "   - Hadamard\n",
    "   - RZ(θ)\n",
    "   - Hadamard\n",
    "\n",
    "2. In the main circuit:\n",
    "   - Apply `phase_kick` to wires 0, 1, and 2 with different values of θ:\n",
    "     - wire 0 → θ = π/4\n",
    "     - wire 1 → θ = π/2\n",
    "     - wire 2 → θ = π\n",
    "\n",
    "**Instructions:**\n",
    "\n",
    "- Return the statevector or probabilities for wires 0, 1, and 2.\n",
    "- Compare how different phase kicks affect measurement results.\n"
   ]
  },
  {
   "cell_type": "code",
   "execution_count": 13,
   "id": "e78cc1cb",
   "metadata": {},
   "outputs": [
    {
     "name": "stdout",
     "output_type": "stream",
     "text": [
      "0.999999999999999\n"
     ]
    }
   ],
   "source": [
    "def phase_kick(wire, theta):\n",
    "    qml.Hadamard(wires = wire)\n",
    "    qml.RZ(theta, wires = wire)\n",
    "    qml.Hadamard(wires = wire)\n",
    "def main_func():\n",
    "    phase_kick(0,np.pi / 4)\n",
    "    phase_kick(1,np.pi / 2)\n",
    "    phase_kick(2, np.pi)\n",
    "    return qml.probs()\n",
    "device = qml.device(\"default.qubit\", wires = 3)\n",
    "main_func_qnode = qml.QNode(main_func,device)\n",
    "p = main_func_qnode()\n",
    "# Lets chek whether the sum of probs is 1 or not ... \n",
    "sum = 0 \n",
    "for i in range(len(p)):\n",
    "    sum = sum + p[i]\n",
    "print(sum)"
   ]
  },
  {
   "cell_type": "markdown",
   "id": "86b17a4d",
   "metadata": {},
   "source": []
  },
  {
   "cell_type": "code",
   "execution_count": 14,
   "id": "c05cd510",
   "metadata": {},
   "outputs": [
    {
     "data": {
      "text/plain": [
       "(<Figure size 600x400 with 1 Axes>, <Axes: >)"
      ]
     },
     "execution_count": 14,
     "metadata": {},
     "output_type": "execute_result"
    },
    {
     "data": {
      "image/png": "[encoded data removed]",
      "text/plain": [
       "<Figure size 600x400 with 1 Axes>"
      ]
     },
     "metadata": {},
     "output_type": "display_data"
    }
   ],
   "source": [
    "qml.draw_mpl(main_func)()"
   ]
  },
  {
   "cell_type": "code",
   "execution_count": null,
   "id": "92d83a16",
   "metadata": {},
   "outputs": [],
   "source": []
  }
 ],
 "metadata": {
  "kernelspec": {
   "display_name": "cwp",
   "language": "python",
   "name": "python3"
  },
  "language_info": {
   "codemirror_mode": {
    "name": "ipython",
    "version": 3
   },
   "file_extension": ".py",
   "mimetype": "text/x-python",
   "name": "python",
   "nbconvert_exporter": "python",
   "pygments_lexer": "ipython3",
   "version": "3.10.18"
  }
 },
 "nbformat": 4,
 "nbformat_minor": 5
}
