{
 "cells": [
  {
   "cell_type": "markdown",
   "id": "c9658408",
   "metadata": {},
   "source": [
    "### **Learning Objectives**\n",
    "- Learn how to use different measurements in PennyLane.\n",
    "- Understand the role of observables in measurements."
   ]
  },
  {
   "cell_type": "markdown",
   "id": "a7facedc",
   "metadata": {},
   "source": [
    "### PennyLane Measurements Cheat Sheet\n",
    "Measurements in PennyLane are special. They provide flexibility, enabling you to perform measurements on both simulators and real quantum hardware. They also offer variety, allowing you to customize your quantum algorithms to your specific requirements. Let’s look into different PennyLane measurements and how you can use them to your advantage.\n",
    "\n",
    "We will explore these measurements in the light of a simple, noiseless, two-qubit circuit where the first qubit is in the $\\ket{0}$ state and the second in the $\\ket{1}$ state. We will refer it as our `simple_circuit`"
   ]
  },
  {
   "cell_type": "code",
   "execution_count": 1,
   "id": "075b1a85",
   "metadata": {},
   "outputs": [],
   "source": [
    "import pennylane as qml\n",
    "from pennylane import numpy as np"
   ]
  },
  {
   "cell_type": "code",
   "execution_count": 2,
   "id": "0736dcfa",
   "metadata": {},
   "outputs": [
    {
     "data": {
      "text/plain": [
       "(<Figure size 500x300 with 1 Axes>, <Axes: >)"
      ]
     },
     "execution_count": 2,
     "metadata": {},
     "output_type": "execute_result"
    },
    {
     "data": {
      "image/png": "[encoded data removed]",
      "text/plain": [
       "<Figure size 500x300 with 1 Axes>"
      ]
     },
     "metadata": {},
     "output_type": "display_data"
    }
   ],
   "source": [
    "dev = qml.device(\"default.qubit\", wires = 2)\n",
    "@qml.qnode(dev)\n",
    "def simple_circuit():\n",
    "    qml.Identity(wires = [0])\n",
    "    qml.X(wires = [1])\n",
    "    # return my_measurement \n",
    "qml.draw_mpl(simple_circuit)()"
   ]
  },
  {
   "cell_type": "markdown",
   "id": "8219c5b1",
   "metadata": {},
   "source": [
    "The table below summarizes the measurements you could put in place of ``my_measurement``. Use it as a cheat sheet when you're already familiar with PennyLane measurements. However, if you’re looking to understand them in depth, make sure to read the relevant sections below.\n",
    "\n",
    "| Measurement         | PennyLane function         | Output type | Requires `shots > 0` | Is differentiable* | Requires an observable | Example output                                         |\n",
    "|---------------------|----------------------------|-------------|-----------------------|---------------------|------------------------|--------------------------------------------------------|\n",
    "| Sample              | `qml.sample`               | Array       | Yes                   | No                  | No                     | `array([0, 1])`                                        |\n",
    "| Counts              | `qml.counts`               | Dict        | Yes                   | No                  | No                     | `{'01': 1}`                                            |\n",
    "| Probability         | `qml.probs`                | Array       | No                    | Yes                 | No                     | `array([0., 1., 0., 0.])`                              |\n",
    "| Expectation value   | `qml.expval`               | Float       | No                    | Yes                 | Yes                    | `qml.expval(qml.Z(wires=0)), qml.expval(qml.Z(wires=1))`<br>`Out: (1.0, -1.0)` |\n",
    "\n",
    "\n",
    "`Is differentiable` refers to the fact : \n",
    "Can this measurement be used in gradient-based optimization? "
   ]
  },
  {
   "cell_type": "code",
   "execution_count": 3,
   "id": "ca98ca06",
   "metadata": {},
   "outputs": [
    {
     "name": "stdout",
     "output_type": "stream",
     "text": [
      "[[0 0]\n",
      " [0 0]\n",
      " [1 1]\n",
      " [1 1]\n",
      " [1 1]\n",
      " [0 0]\n",
      " [1 1]]\n"
     ]
    }
   ],
   "source": [
    "# The use of `qml.sample`\n",
    "device = qml.device(\"default.qubit\", wires = 2, shots = 7)\n",
    "@qml.qnode(device)\n",
    "def entangled_state():\n",
    "    qml.Hadamard(wires = [0])\n",
    "    qml.CNOT(wires = [0,1])\n",
    "    return qml.sample(wires = [0,1])\n",
    "print(entangled_state())\n",
    "# It means `qml.sample` returns the state on which our system collapse to, after measurement."
   ]
  },
  {
   "cell_type": "markdown",
   "id": "b955cde3",
   "metadata": {},
   "source": [
    "We can also specify an observable in qml.sample. Let's say that, once again, we prepare the $\\ket{+}$ state on one qubit and sample from the PauliX observable with ten shots. What result do we expect to obtain?\n",
    "\n",
    "The $\\ket{+}$ state is an eigenstate of the PauliX observable, where corressponding eigenvalue is 1. So we expect to obtain an array of 1s as an output."
   ]
  },
  {
   "cell_type": "code",
   "execution_count": 4,
   "id": "e7689dee",
   "metadata": {},
   "outputs": [
    {
     "name": "stdout",
     "output_type": "stream",
     "text": [
      "[-1.  1. -1.  1.  1.  1. -1.]\n"
     ]
    }
   ],
   "source": [
    "device = qml.device(\"default.qubit\", wires = 2, shots = 7)\n",
    "@qml.qnode(device)\n",
    "def entangled_state():\n",
    "    qml.Hadamard(wires = [0])\n",
    "    qml.CNOT(wires = [0,1])\n",
    "    return qml.sample(qml.PauliX(0))\n",
    "print(entangled_state())"
   ]
  },
  {
   "cell_type": "markdown",
   "id": "8d4c128d",
   "metadata": {},
   "source": [
    "What happens when you have hundreds or thousands of shots? If you measure samples, you’ll get hundreds or thousands of lines in your output, containing the eigenvalues measured for your observable. Unless you’re a machine (and if you are then please rank us high on Google search), it will be virtually impossible to analyze these very large outputs. The trick is to use `counts` to summarize this information. Counts will give us a dictionary with the number of occurrences (or counts) for each sample.\n",
    "\n",
    "Let's look at the same example we used for qml.sample, but this time we use 1000 shots and measure qml.counts."
   ]
  },
  {
   "cell_type": "code",
   "execution_count": 5,
   "id": "471f49d3",
   "metadata": {},
   "outputs": [
    {
     "name": "stdout",
     "output_type": "stream",
     "text": [
      "{np.str_('00'): np.int64(481), np.str_('11'): np.int64(519)}\n"
     ]
    }
   ],
   "source": [
    "# The use of `qml.counts`\n",
    "device = qml.device(\"default.qubit\", wires = 2, shots = 1000)\n",
    "@qml.qnode(device)\n",
    "def entangled_state():\n",
    "    qml.Hadamard(wires = [0])\n",
    "    qml.CNOT(wires = [0,1])\n",
    "    return qml.counts()\n",
    "print(entangled_state())\n",
    "# It means `qml.counts` returns how many times a state is appearing."
   ]
  },
  {
   "cell_type": "markdown",
   "id": "387cced4",
   "metadata": {},
   "source": [
    "We can do the same with an observable specified. Choosing `qml.PauliX` like before, we expect all outcomes to be 1, which indeed happens."
   ]
  },
  {
   "cell_type": "code",
   "execution_count": 9,
   "id": "eca13e6a",
   "metadata": {},
   "outputs": [
    {
     "name": "stdout",
     "output_type": "stream",
     "text": [
      "{np.float64(1.0): np.int64(10)}\n"
     ]
    }
   ],
   "source": [
    "device = qml.device(\"default.qubit\", wires = 1, shots = 10)\n",
    "@qml.qnode(device)\n",
    "def entangled_state():\n",
    "    qml.Hadamard(wires = [0])\n",
    "    return qml.counts(qml.PauliX(0))\n",
    "print(entangled_state())"
   ]
  },
  {
   "cell_type": "code",
   "execution_count": 7,
   "id": "51a0647a",
   "metadata": {},
   "outputs": [
    {
     "name": "stdout",
     "output_type": "stream",
     "text": [
      "[0.42857143 0.         0.         0.57142857]\n"
     ]
    }
   ],
   "source": [
    "# The use of `qml.probs`\n",
    "device = qml.device(\"default.qubit\", wires = 2, shots = 7)\n",
    "@qml.qnode(device)\n",
    "def entangled_state():\n",
    "    qml.Hadamard(wires = [0])\n",
    "    qml.CNOT(wires = [0,1])\n",
    "    return qml.probs()\n",
    "print(entangled_state())\n",
    "# It means `qml.probs` returns the probability of each state to be measured"
   ]
  },
  {
   "cell_type": "markdown",
   "id": "d29f146d",
   "metadata": {},
   "source": [
    "### Observables\n",
    "Recall that an observable is an operator that represents the possible outcomes of a particular measurement on a quantum system. Namely,\n",
    "- The eigenvalues $\\lambda_{i}$ of the operator represent the values that the measurement outcome can have.\n",
    "- The eigenstate $\\ket{\\lambda_{i}}$ associated to the eigenvalue $\\lambda_{i}$ represents the state right after measurement.\n",
    "\n",
    "Additionally, Bohr's Rule tells us that the probability of measuring the value $\\lambda_{i}$ given a state $\\ket{\\psi}$ right before measurement is\n",
    "$$\n",
    "p(i) = |\\langle \\lambda_i | \\psi \\rangle|^2\n",
    "$$\n",
    "In PennyLane, observables are operators that are also Hermitian. For example, the PennyLane operators `qml.PauliX` and `qml.Hadamard` are also observables. We can create more general observables using Operator Arithmetic. For example, if we want to define the Hermitian operator\n",
    "$$\n",
    "O = \\frac{1}{2} X \\otimes X + \\frac{1}{4} Y \\otimes Y\n",
    "$$\n",
    "we write the script below"
   ]
  },
  {
   "cell_type": "code",
   "execution_count": 8,
   "id": "c1084eee",
   "metadata": {},
   "outputs": [],
   "source": [
    "O = 1/2 * qml.X(0) @ qml.X(1) + 1/4 * qml.Y(0) @ qml.Y(1)"
   ]
  },
  {
   "cell_type": "markdown",
   "id": "7b05e8fc",
   "metadata": {},
   "source": [
    "Here, the symbol @ denotes the tensor product between PennyLane operators, and the arguments 0 and 1 are the wires on which the operators X and Y act."
   ]
  },
  {
   "cell_type": "markdown",
   "id": "a72deebf",
   "metadata": {},
   "source": [
    "### Expectation Values\n",
    "\n",
    "Expectation values are probably the most used type of measurement, especially for optimization and machine learning since they give useful information about the state and they’re differentiable (not stochastic)! Let's recall that for an observable represented by the operator $\\hat{O}$ and a state $\\ket{\\psi}$ right before measurement, the expectation value $<\\hat{O}>$ is calculated via, \n",
    "\n",
    "$$\n",
    "<\\hat{O}> = \\langle \\psi |\\hat{O}| \\psi \\rangle\n",
    "$$\n",
    "\n",
    "What is the analytic expectation value of the PauliZ observable for the first qubit in our simple circuit? We expect it to be $<Z> = \\langle 0|\\hat{Z}|0 \\rangle = 1$. We can code it in PennyLane to check this is indeed the case."
   ]
  },
  {
   "cell_type": "code",
   "execution_count": 16,
   "id": "c863564d",
   "metadata": {},
   "outputs": [
    {
     "name": "stdout",
     "output_type": "stream",
     "text": [
      "1.0\n"
     ]
    }
   ],
   "source": [
    "@qml.qnode(dev)\n",
    "def simple_circuit():\n",
    "    qml.Identity(wires = [0])\n",
    "    qml.X(wires = [1])\n",
    "    return qml.expval(qml.PauliZ(0)) \n",
    "print(simple_circuit())"
   ]
  },
  {
   "cell_type": "markdown",
   "id": "0b4f5f1b",
   "metadata": {},
   "source": [
    "Note that `qml.expval` only takes an observable as an argument. The wires are specified in the observable itself. Let's look at another example with a more complicated observable."
   ]
  },
  {
   "cell_type": "code",
   "execution_count": 17,
   "id": "3fba8209",
   "metadata": {},
   "outputs": [
    {
     "data": {
      "text/plain": [
       "np.float64(0.16666666666666669)"
      ]
     },
     "execution_count": 17,
     "metadata": {},
     "output_type": "execute_result"
    }
   ],
   "source": [
    "@qml.qnode(dev)\n",
    "def expval_circuit():\n",
    "    \n",
    "    qml.RY(np.pi/4, wires = 0)\n",
    "    qml.RX(np.pi/3, wires = 1)\n",
    "    qml.CNOT(wires = [0, 1])\n",
    "    \n",
    "    return qml.expval(1/3*qml.PauliZ(0) @ qml.PauliZ(1))\n",
    "\n",
    "\n",
    "expval_circuit()"
   ]
  },
  {
   "cell_type": "markdown",
   "id": "2d117f4d",
   "metadata": {},
   "source": [
    "Did you know PennyLane can return multiple measurements at once? Of course! The output will be a tuple with the corresponding results for each measurement. For instance, if we want to measure the analytic expectation value of the PauliZ observable for both qubits in our simple circuit, we can code it as `qml.expval(qml.Z(wires=0))`, `qml.expval(qml.Z(wires=1))`. The output will be a tuple (1.0, -1.0). We can also combine different types of measurements. Give it a try!"
   ]
  },
  {
   "cell_type": "code",
   "execution_count": 32,
   "id": "41ce09dc",
   "metadata": {},
   "outputs": [
    {
     "data": {
      "text/plain": [
       "(np.float64(-1.0), np.float64(1.0))"
      ]
     },
     "execution_count": 32,
     "metadata": {},
     "output_type": "execute_result"
    }
   ],
   "source": [
    "@qml.qnode(dev)\n",
    "def simple_circuit():\n",
    "    qml.Identity(wires = [0])\n",
    "    qml.X(wires = [1])\n",
    "    return qml.expval(qml.PauliZ(1)), qml.expval(qml.PauliZ(0))\n",
    "simple_circuit()"
   ]
  },
  {
   "cell_type": "markdown",
   "id": "5d339d3b",
   "metadata": {},
   "source": [
    "##### **Problem** : Calculate the expectation value of any hermition observable which is not defiend as a built-in gate or observable in pennylane.\n",
    "In PennyLane you can represent an arbitrary Hermitian observable by using `qml.Hermitian`.\n",
    "\n",
    "Why is this useful? Calculating the expectation value of a Hermitian matrix A can be useful for obtaining information such as the fidelity between A and the state of the circuit upon measurement. Note: using qml.Hermitian together with qml.probs is not supported."
   ]
  },
  {
   "cell_type": "code",
   "execution_count": 33,
   "id": "d2c00b37",
   "metadata": {},
   "outputs": [
    {
     "name": "stdout",
     "output_type": "stream",
     "text": [
      "0.0\n"
     ]
    }
   ],
   "source": [
    "# lets define the observable\n",
    "Observable = np.array([\n",
    "    [1,0],\n",
    "    [0,-1]\n",
    "])\n",
    "@qml.qnode(dev)\n",
    "def any_func():\n",
    "    qml.Hadamard(wires = 0)\n",
    "    qml.CNOT(wires = [0,1])\n",
    "    return qml.expval(qml.Hermitian(Observable, wires = [1]))\n",
    "print(any_func())\n"
   ]
  },
  {
   "cell_type": "markdown",
   "id": "bfa77869",
   "metadata": {},
   "source": [
    "**Problem** : Compute the probability of the tensor $<Z_{0} \\otimes Z_{1}>$."
   ]
  },
  {
   "cell_type": "code",
   "execution_count": 41,
   "id": "79031a14",
   "metadata": {},
   "outputs": [
    {
     "name": "stdout",
     "output_type": "stream",
     "text": [
      "[0.5 0.  0.  0.5]\n"
     ]
    }
   ],
   "source": [
    "dev = qml.device(\"default.qubit\", wires = 2)\n",
    "@qml.qnode(dev)\n",
    "def function():\n",
    "    qml.Hadamard(wires = [0])\n",
    "    qml.CNOT(wires = [0,1])\n",
    "    return qml.probs(op = qml.Z(wires = 0) @ qml.Z(wires = 1))\n",
    "print(function())"
   ]
  },
  {
   "cell_type": "code",
   "execution_count": null,
   "id": "ff754080",
   "metadata": {},
   "outputs": [],
   "source": []
  }
 ],
 "metadata": {
  "kernelspec": {
   "display_name": "cwp",
   "language": "python",
   "name": "python3"
  },
  "language_info": {
   "codemirror_mode": {
    "name": "ipython",
    "version": 3
   },
   "file_extension": ".py",
   "mimetype": "text/x-python",
   "name": "python",
   "nbconvert_exporter": "python",
   "pygments_lexer": "ipython3",
   "version": "3.10.18"
  }
 },
 "nbformat": 4,
 "nbformat_minor": 5
}
